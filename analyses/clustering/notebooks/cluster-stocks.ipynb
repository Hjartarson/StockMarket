{
 "cells": [
  {
   "cell_type": "code",
   "execution_count": null,
   "metadata": {},
   "outputs": [],
   "source": [
    "import pandas as pd\n",
    "import datetime\n",
    "import numpy as np\n",
    "import os\n",
    "import sys\n",
    "today = str(datetime.datetime.now().date())\n",
    "print(today)\n",
    "%matplotlib inline"
   ]
  },
  {
   "cell_type": "code",
   "execution_count": null,
   "metadata": {},
   "outputs": [],
   "source": [
    "CURR_PATH = os.path.dirname(os.path.abspath('__file__'))\n",
    "PROJ_ROOT = os.path.join(CURR_PATH, os.pardir)\n",
    "print(PROJ_ROOT)\n",
    "DATA_RAW = os.path.join(PROJ_ROOT, \"data\", \"raw\")\n",
    "PROCESSED = os.path.join(PROJ_ROOT, \"data\", \"processed\")\n",
    "REPORTS = os.path.join(PROJ_ROOT, \"reports\")\n",
    "FIGS = os.path.join(REPORTS, \"figures\")\n",
    "path_components = PROJ_ROOT.split(os.sep)\n",
    "ROOT = os.sep.join(path_components[:path_components.index(\"analyses\")])\n",
    "\n",
    "sys.path.append(os.path.join(ROOT, 'modules'))\n",
    "\n",
    "import stocks as stocks\n",
    "import style as style\n",
    "style.set_style()"
   ]
  },
  {
   "cell_type": "code",
   "execution_count": null,
   "metadata": {},
   "outputs": [],
   "source": [
    "for i in reversed((conv_layers.keys())):\n",
    "    print(i)"
   ]
  },
  {
   "cell_type": "code",
   "execution_count": null,
   "metadata": {},
   "outputs": [],
   "source": [
    "conv_layers = {'conv1': {'filters': 8, 'kernel_size': 7, 'strides': 1},\n",
    "               'conv2': {'filters': 8, 'kernel_size': 4, 'strides': 1}}\n",
    "pool_layers = {'pool1': {'pool_size': 7, 'strides': 7},\n",
    "               'pool2': {'pool_size': 4, 'strides': 4}}\n",
    "test = {}\n",
    "for conv, pool in zip(conv_layers.keys(), pool_layers.keys()):\n",
    "    print(conv, pool)\n",
    "    test[pool] = conv\n",
    "    \n",
    "test"
   ]
  },
  {
   "cell_type": "code",
   "execution_count": null,
   "metadata": {},
   "outputs": [],
   "source": [
    "print('making report')\n",
    "df = pd.read_pickle(os.path.join(DATA_RAW, 'df.pkl'), compression = 'gzip')\n",
    "print(df.info())"
   ]
  },
  {
   "cell_type": "code",
   "execution_count": null,
   "metadata": {
    "scrolled": false
   },
   "outputs": [],
   "source": [
    "df_stock = df.groupby(['datetime', 'stock'])['close'].sum().unstack().ffill().bfill()\n",
    "df_stock = (df_stock - df_stock.min()) / (df_stock.max() - df_stock.min())\n",
    "\n",
    "df_stock.head()"
   ]
  },
  {
   "cell_type": "code",
   "execution_count": null,
   "metadata": {},
   "outputs": [],
   "source": [
    "days, stocks = df_stock.shape\n",
    "print(days, stocks)"
   ]
  },
  {
   "cell_type": "code",
   "execution_count": null,
   "metadata": {
    "scrolled": false
   },
   "outputs": [],
   "source": [
    "df_stock.sample(n=10, axis=1).rolling(1).mean().plot(lw=2)"
   ]
  },
  {
   "cell_type": "code",
   "execution_count": null,
   "metadata": {},
   "outputs": [],
   "source": [
    "df_stock.rolling(10).mean().plot(lw=2)"
   ]
  }
 ],
 "metadata": {
  "kernelspec": {
   "display_name": "tensorflow",
   "language": "python",
   "name": "tensorflow"
  },
  "language_info": {
   "codemirror_mode": {
    "name": "ipython",
    "version": 3
   },
   "file_extension": ".py",
   "mimetype": "text/x-python",
   "name": "python",
   "nbconvert_exporter": "python",
   "pygments_lexer": "ipython3",
   "version": "3.6.5"
  }
 },
 "nbformat": 4,
 "nbformat_minor": 2
}
