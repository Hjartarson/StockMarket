{
 "cells": [
  {
   "cell_type": "code",
   "execution_count": 19,
   "metadata": {},
   "outputs": [
    {
     "name": "stdout",
     "output_type": "stream",
     "text": [
      "2017-10-03\n"
     ]
    }
   ],
   "source": [
    "import urllib.request as urlopen\n",
    "import pandas as pd\n",
    "import datetime\n",
    "import numpy as np\n",
    "import os\n",
    "today = str(datetime.datetime.now().date())\n",
    "print(today)\n",
    "%matplotlib inline"
   ]
  },
  {
   "cell_type": "code",
   "execution_count": 45,
   "metadata": {
    "collapsed": true
   },
   "outputs": [],
   "source": [
    "#https://finance.google.com/finance/getprices?q=HM-B&p=10d&f=d,o,h,l,c,v\n",
    "def GoogleIntradayQuote(Quotes,interval_seconds,period_length,period):\n",
    "    df = pd.DataFrame(columns=['datetime','stock','open','high','low','close','volume'])\n",
    "    exchange = 'STO'\n",
    "    for Quote in Quotes:\n",
    "        url_string = \"http://finance.google.com/finance/getprices?q={0}&x={1}\".format(Quote,exchange)\n",
    "        url_string += \"&p={0}{1}&i={2}&f=d,o,h,l,c,v\".format(period_length,period,interval_seconds)\n",
    "        print(url_string)\n",
    "        csv = urlopen.urlopen(url_string).readlines()\n",
    "        csv = [x.decode(\"utf-8\") for x in csv]\n",
    "        for bar in range(7,len(csv)):\n",
    "            if csv[bar].count(',')!=5:\n",
    "                continue\n",
    "            offset,close,high,low,open_,volume = csv[bar].split(',')\n",
    "            if offset[0]=='a':\n",
    "                day = float(offset[1:])\n",
    "                offset = 0\n",
    "            else:\n",
    "                offset = float(offset)\n",
    "            open,high,low,close,volume = [float(x) for x in [open_,high,low,close,volume]]\n",
    "            dt = datetime.datetime.fromtimestamp(day+(interval_seconds*offset))\n",
    "            df2 = pd.DataFrame([[dt,Quote,open,high,low,close,volume]],columns=['datetime','stock','open','high','low','close','volume'])\n",
    "            df = df.append(df2,ignore_index = True)\n",
    "    return df, url_string"
   ]
  },
  {
   "cell_type": "code",
   "execution_count": 53,
   "metadata": {},
   "outputs": [
    {
     "name": "stdout",
     "output_type": "stream",
     "text": [
      "http://finance.google.com/finance/getprices?q=FING-B&x=STO&p=1Y&i=86400&f=d,o,h,l,c,v\n",
      "http://finance.google.com/finance/getprices?q=SSAB-B&x=STO&p=1Y&i=86400&f=d,o,h,l,c,v\n",
      "             datetime   stock    open    high    low   close      volume\n",
      "0 2016-10-03 17:30:00  FING-B  101.00  101.50  99.30   99.80   2840234.0\n",
      "1 2016-10-04 17:30:00  FING-B  100.00  100.90  99.00   99.80   3377179.0\n",
      "2 2016-10-05 17:30:00  FING-B  100.20  101.00  99.25  100.20   4156429.0\n",
      "3 2016-10-06 17:30:00  FING-B   99.75   99.85  95.25   96.25  11570839.0\n",
      "4 2016-10-07 17:30:00  FING-B   97.00   97.20  94.10   95.40   6092416.0\n",
      "from: 2016-10-03\n",
      "to: 2017-10-02\n",
      "days: 261\n"
     ]
    }
   ],
   "source": [
    "Quotes = ['FING-B','SSAB-B']\n",
    "period_length = 1\n",
    "period = 'Y'\n",
    "interval_min = 60*24\n",
    "interval_sec = 60*interval_min\n",
    "df, url_string = GoogleIntradayQuote(Quotes,interval_sec,period_length,period)\n",
    "print(df.head())\n",
    "from_date = str(df['datetime'].min().date())\n",
    "to_date = str(df['datetime'].max().date())\n",
    "days = np.busday_count(from_date,to_date)+1\n",
    "print('ticks:',df.shape[0])\n",
    "print('from:', from_date)\n",
    "print('to:', to_date)\n",
    "print('days:', days)"
   ]
  },
  {
   "cell_type": "code",
   "execution_count": 65,
   "metadata": {},
   "outputs": [
    {
     "name": "stdout",
     "output_type": "stream",
     "text": [
      "quote=FING-BSSAB-B&start=2016-10-03&end=2017-10-02&interval=1440min\n"
     ]
    }
   ],
   "source": [
    "filename = 'quote='\n",
    "for Quote in Quotes:\n",
    "    filename = filename+Quote\n",
    "filename = filename+'&start='+from_date+'&end='+to_date+'&interval='+str(interval_min)+'min'\n",
    "print(filename)\n",
    "df.to_pickle(os.path.join('data',filename+'.pkl'))"
   ]
  },
  {
   "cell_type": "code",
   "execution_count": 64,
   "metadata": {},
   "outputs": [
    {
     "data": {
      "text/plain": [
       "<matplotlib.axes._subplots.AxesSubplot at 0x1ef982e9a58>"
      ]
     },
     "execution_count": 64,
     "metadata": {},
     "output_type": "execute_result"
    },
    {
     "data": {
      "image/png": "[encoded data removed]",
      "text/plain": [
       "<matplotlib.figure.Figure at 0x1ef982f4c50>"
      ]
     },
     "metadata": {},
     "output_type": "display_data"
    }
   ],
   "source": [
    "df[['datetime','stock','high']].groupby(['datetime','stock'])['high'].sum().unstack().plot()"
   ]
  }
 ],
 "metadata": {
  "kernelspec": {
   "display_name": "Python 3",
   "language": "python",
   "name": "python3"
  },
  "language_info": {
   "codemirror_mode": {
    "name": "ipython",
    "version": 3
   },
   "file_extension": ".py",
   "mimetype": "text/x-python",
   "name": "python",
   "nbconvert_exporter": "python",
   "pygments_lexer": "ipython3",
   "version": "3.6.1"
  }
 },
 "nbformat": 4,
 "nbformat_minor": 2
}
