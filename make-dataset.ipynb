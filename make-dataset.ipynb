{
 "cells": [
  {
   "cell_type": "code",
   "execution_count": 1,
   "metadata": {},
   "outputs": [
    {
     "name": "stdout",
     "output_type": "stream",
     "text": [
      "2017-10-19\n"
     ]
    }
   ],
   "source": [
    "import pandas as pd\n",
    "import datetime\n",
    "import numpy as np\n",
    "import os\n",
    "import sys\n",
    "today = str(datetime.datetime.now().date())\n",
    "print(today)\n",
    "%matplotlib inline"
   ]
  },
  {
   "cell_type": "code",
   "execution_count": 2,
   "metadata": {},
   "outputs": [
    {
     "name": "stdout",
     "output_type": "stream",
     "text": [
      "Style set\n"
     ]
    }
   ],
   "source": [
    "#https://finance.google.com/finance/getprices?q=HM-B&p=10d&f=d,o,h,l,c,v\n",
    "#http://finance.google.com/finance/getprices?q=OMXS30&x=INDEXNASDAQ&p=2Y&i=86400&f=d,o,h,l,c,v\n",
    "\n",
    "CURR_PATH = os.path.dirname(os.path.abspath('__file__'))\n",
    "ROOT =  os.path.join(CURR_PATH)\n",
    "sys.path.append(os.path.join(ROOT,'modules'))\n",
    "\n",
    "import stocks as stocks\n",
    "import style as style\n",
    "style.set_style()"
   ]
  },
  {
   "cell_type": "code",
   "execution_count": 3,
   "metadata": {},
   "outputs": [
    {
     "name": "stdout",
     "output_type": "stream",
     "text": [
      "http://finance.google.com/finance/getprices?q=VOLV-B&x=STO&p=1Y&i=120&f=d,o,h,l,c,v\n",
      "http://finance.google.com/finance/getprices?q=HM-B&x=STO&p=1Y&i=120&f=d,o,h,l,c,v\n",
      "             datetime   stock   open   high    low  close   volume\n",
      "0 2017-09-08 09:02:00  VOLV-B  147.0  147.3  147.0  147.3  41222.0\n",
      "1 2017-09-08 09:04:00  VOLV-B  147.2  147.2  147.0  147.1  39781.0\n",
      "2 2017-09-08 09:06:00  VOLV-B  147.0  147.2  147.0  147.2  20618.0\n",
      "3 2017-09-08 09:08:00  VOLV-B  147.2  147.2  147.2  147.2   5711.0\n",
      "4 2017-09-08 09:10:00  VOLV-B  147.2  147.2  147.1  147.1   8259.0\n",
      "ticks: 14882\n",
      "from: 2017-09-08\n",
      "to: 2017-10-19\n",
      "days: 30\n"
     ]
    }
   ],
   "source": [
    "# OMXS30 Data\n",
    "# ['ALIV-SDB','NCC-B','LUMI-SDB','THULE','HM-B','VOLV-B','BOL','GETI-B','SKA-B','AZN']\n",
    "#Quotes = ['OMXS30']\n",
    "#exchange = 'INDEXNASDAQ'\n",
    "exchange = 'STO'\n",
    "Quotes = ['VOLV-B','HM-B']\n",
    "period_length = 1\n",
    "period = 'Y'\n",
    "interval_min = 2\n",
    "interval_sec = 60*interval_min\n",
    "df, url_string = stocks.GoogleIntradayQuote(Quotes,interval_sec,period_length,period,exchange)\n",
    "print(df.head())\n",
    "from_date = str(df['datetime'].min().date())\n",
    "to_date = str(df['datetime'].max().date())\n",
    "days = np.busday_count(from_date,to_date)+1\n",
    "print('ticks:',df.shape[0])\n",
    "print('from:', from_date)\n",
    "print('to:', to_date)\n",
    "print('days:', days)"
   ]
  },
  {
   "cell_type": "code",
   "execution_count": 4,
   "metadata": {},
   "outputs": [
    {
     "name": "stdout",
     "output_type": "stream",
     "text": [
      "quote=VOLV-BHM-B&start=2017-09-08&end=2017-10-19&interval=2min\n"
     ]
    }
   ],
   "source": [
    "filename = 'quote='\n",
    "for Quote in Quotes:\n",
    "    filename = filename+Quote\n",
    "filename = filename+'&start='+from_date+'&end='+to_date+'&interval='+str(interval_min)+'min'\n",
    "print(filename)\n",
    "df.to_pickle(os.path.join('data',filename+'.pkl'))"
   ]
  },
  {
   "cell_type": "code",
   "execution_count": 7,
   "metadata": {},
   "outputs": [
    {
     "data": {
      "text/html": [
       "<div>\n",
       "<style>\n",
       "    .dataframe thead tr:only-child th {\n",
       "        text-align: right;\n",
       "    }\n",
       "\n",
       "    .dataframe thead th {\n",
       "        text-align: left;\n",
       "    }\n",
       "\n",
       "    .dataframe tbody tr th {\n",
       "        vertical-align: top;\n",
       "    }\n",
       "</style>\n",
       "<table border=\"1\" class=\"dataframe\">\n",
       "  <thead>\n",
       "    <tr style=\"text-align: right;\">\n",
       "      <th></th>\n",
       "      <th>datetime</th>\n",
       "      <th>open</th>\n",
       "      <th>high</th>\n",
       "      <th>low</th>\n",
       "      <th>close</th>\n",
       "      <th>volume</th>\n",
       "    </tr>\n",
       "    <tr>\n",
       "      <th>stock</th>\n",
       "      <th></th>\n",
       "      <th></th>\n",
       "      <th></th>\n",
       "      <th></th>\n",
       "      <th></th>\n",
       "      <th></th>\n",
       "    </tr>\n",
       "  </thead>\n",
       "  <tbody>\n",
       "    <tr>\n",
       "      <th>HM-B</th>\n",
       "      <td>7569</td>\n",
       "      <td>7569</td>\n",
       "      <td>7569</td>\n",
       "      <td>7569</td>\n",
       "      <td>7569</td>\n",
       "      <td>7569</td>\n",
       "    </tr>\n",
       "    <tr>\n",
       "      <th>VOLV-B</th>\n",
       "      <td>7313</td>\n",
       "      <td>7313</td>\n",
       "      <td>7313</td>\n",
       "      <td>7313</td>\n",
       "      <td>7313</td>\n",
       "      <td>7313</td>\n",
       "    </tr>\n",
       "  </tbody>\n",
       "</table>\n",
       "</div>"
      ],
      "text/plain": [
       "        datetime  open  high   low  close  volume\n",
       "stock                                            \n",
       "HM-B        7569  7569  7569  7569   7569    7569\n",
       "VOLV-B      7313  7313  7313  7313   7313    7313"
      ]
     },
     "execution_count": 7,
     "metadata": {},
     "output_type": "execute_result"
    },
    {
     "data": {
      "image/png": "[encoded data removed]",
      "text/plain": [
       "<matplotlib.figure.Figure at 0x105032da0>"
      ]
     },
     "metadata": {},
     "output_type": "display_data"
    }
   ],
   "source": [
    "df[['datetime','stock','close']].groupby(['datetime','stock'])['close'].sum().unstack().head().plot(grid = True)\n",
    "df.groupby('stock').count()"
   ]
  }
 ],
 "metadata": {
  "kernelspec": {
   "display_name": "Python 3",
   "language": "python",
   "name": "python3"
  },
  "language_info": {
   "codemirror_mode": {
    "name": "ipython",
    "version": 3
   },
   "file_extension": ".py",
   "mimetype": "text/x-python",
   "name": "python",
   "nbconvert_exporter": "python",
   "pygments_lexer": "ipython3",
   "version": "3.5.4"
  }
 },
 "nbformat": 4,
 "nbformat_minor": 2
}
