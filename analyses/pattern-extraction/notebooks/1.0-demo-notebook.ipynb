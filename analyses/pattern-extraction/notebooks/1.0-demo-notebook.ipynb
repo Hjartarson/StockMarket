{
 "cells": [
  {
   "cell_type": "markdown",
   "metadata": {},
   "source": [
    "Demo notebook \n",
    "---------\n",
    "In this notebook we're collecting tips'n tricks, useful and cool stuff."
   ]
  },
  {
   "cell_type": "code",
   "execution_count": null,
   "metadata": {},
   "outputs": [],
   "source": [
    "#make dataset\n",
    "\n",
    "import sys\n",
    "import os\n",
    "import pandas as pd\n",
    "import datetime\n",
    "import numpy as np\n",
    "from IPython.display import display, HTML\n",
    "\n",
    "%matplotlib inline\n",
    "%load_ext autoreload\n",
    "%autoreload 2\n",
    "\n",
    "pd.options.display.max_columns = 40                                        #Set number of colomns to be displayed in the dataframe\n",
    "display(HTML(\"<style>.container { width:100% !important; }</style>\"))      #Adjust width"
   ]
  },
  {
   "cell_type": "code",
   "execution_count": null,
   "metadata": {},
   "outputs": [],
   "source": [
    "sys.path.append(os.path.join(os.pardir, os.pardir, os.pardir, \"modules\"))  #Add bids modules\n",
    "\n",
    "CURR_PATH = os.path.dirname(os.path.abspath('__file__'))\n",
    "PROJ_ROOT = os.path.join(CURR_PATH, os.pardir)\n",
    "ROOT =  os.path.join(PROJ_ROOT, os.pardir, os.pardir, os.pardir)\n",
    "DATA_RAW = os.path.join(PROJ_ROOT, \"data\", \"raw\")\n",
    "PROCESSED = os.path.join(PROJ_ROOT, \"data\", \"processed\")\n",
    "REPORTS = os.path.join(PROJ_ROOT, \"reports\")\n",
    "FIGURES = os.path.join(PROJ_ROOT, \"reports\", \"figures\")\n",
    "PPT = os.path.join(PROJ_ROOT, \"reports\", \"powerpoint\")\n",
    "\n",
    "sys.path.append(os.path.join(ROOT, 'modules'))\n",
    "\n",
    "print(DATA_RAW)"
   ]
  },
  {
   "cell_type": "code",
   "execution_count": null,
   "metadata": {},
   "outputs": [],
   "source": [
    "import bids_style as bids_style\n",
    "bids_style.set_style()\n",
    "import bids_plot as bp"
   ]
  },
  {
   "cell_type": "code",
   "execution_count": null,
   "metadata": {},
   "outputs": [],
   "source": [
    "# Load data\n",
    "df = pd.read_pickle(os.path.join(DATA_RAW, 'df.pkl'), compression='gzip')\n",
    "df.head()"
   ]
  },
  {
   "cell_type": "code",
   "execution_count": null,
   "metadata": {},
   "outputs": [],
   "source": []
  }
 ],
 "metadata": {
  "kernelspec": {
   "display_name": "Python 3",
   "language": "python",
   "name": "python3"
  },
  "language_info": {
   "codemirror_mode": {
    "name": "ipython",
    "version": 3
   },
   "file_extension": ".py",
   "mimetype": "text/x-python",
   "name": "python",
   "nbconvert_exporter": "python",
   "pygments_lexer": "ipython3",
   "version": "3.6.5"
  }
 },
 "nbformat": 4,
 "nbformat_minor": 1
}
